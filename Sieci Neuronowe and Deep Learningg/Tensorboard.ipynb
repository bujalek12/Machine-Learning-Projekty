{
 "cells": [
  {
   "cell_type": "markdown",
   "metadata": {},
   "source": [
    "<a href=\"https://www.pieriandata.com\"><img src=\"../Pierian_Data_Logo.PNG\"></a>\n",
    "<strong><center>Copyright by Pierian Data Inc.</center></strong> \n",
    "<strong><center>Created by Jose Marcial Portilla.</center></strong>"
   ]
  },
  {
   "cell_type": "markdown",
   "metadata": {},
   "source": [
    "# Tensorboard\n",
    "\n",
    "---\n",
    "---\n",
    "\n",
    "**NOTE: You must watch the corresponding video to understand this lecture. This notebook can't serve as a full guide. Please watch the video BEFORE posting questions to the QA forum.**\n",
    "\n",
    "---\n",
    "---\n",
    "\n",
    "Let's explore the built in data visualization capabilities that come with Tensorboard.\n",
    "\n",
    "Full official tutorial available here: https://www.tensorflow.org/tensorboard/get_started\n",
    "\n",
    "## Data"
   ]
  },
  {
   "cell_type": "code",
   "execution_count": 1,
   "metadata": {},
   "outputs": [],
   "source": [
    "import pandas as pd\n",
    "import numpy as np"
   ]
  },
  {
   "cell_type": "code",
   "execution_count": 2,
   "metadata": {},
   "outputs": [],
   "source": [
    "df = pd.read_csv('cancer_classification.csv')"
   ]
  },
  {
   "cell_type": "markdown",
   "metadata": {},
   "source": [
    "### Train Test Split"
   ]
  },
  {
   "cell_type": "code",
   "execution_count": 3,
   "metadata": {},
   "outputs": [],
   "source": [
    "X = df.drop('benign_0__mal_1',axis=1).values\n",
    "y = df['benign_0__mal_1'].values"
   ]
  },
  {
   "cell_type": "code",
   "execution_count": 4,
   "metadata": {},
   "outputs": [],
   "source": [
    "from sklearn.model_selection import train_test_split"
   ]
  },
  {
   "cell_type": "code",
   "execution_count": 5,
   "metadata": {},
   "outputs": [],
   "source": [
    "X_train, X_test, y_train, y_test = train_test_split(X,y,test_size=0.25,random_state=101)"
   ]
  },
  {
   "cell_type": "markdown",
   "metadata": {},
   "source": [
    "\n",
    "### Scaling Data"
   ]
  },
  {
   "cell_type": "code",
   "execution_count": 6,
   "metadata": {},
   "outputs": [],
   "source": [
    "from sklearn.preprocessing import MinMaxScaler"
   ]
  },
  {
   "cell_type": "code",
   "execution_count": 7,
   "metadata": {},
   "outputs": [],
   "source": [
    "scaler = MinMaxScaler()"
   ]
  },
  {
   "cell_type": "code",
   "execution_count": 8,
   "metadata": {},
   "outputs": [
    {
     "data": {
      "text/html": [
       "<style>#sk-container-id-1 {color: black;}#sk-container-id-1 pre{padding: 0;}#sk-container-id-1 div.sk-toggleable {background-color: white;}#sk-container-id-1 label.sk-toggleable__label {cursor: pointer;display: block;width: 100%;margin-bottom: 0;padding: 0.3em;box-sizing: border-box;text-align: center;}#sk-container-id-1 label.sk-toggleable__label-arrow:before {content: \"▸\";float: left;margin-right: 0.25em;color: #696969;}#sk-container-id-1 label.sk-toggleable__label-arrow:hover:before {color: black;}#sk-container-id-1 div.sk-estimator:hover label.sk-toggleable__label-arrow:before {color: black;}#sk-container-id-1 div.sk-toggleable__content {max-height: 0;max-width: 0;overflow: hidden;text-align: left;background-color: #f0f8ff;}#sk-container-id-1 div.sk-toggleable__content pre {margin: 0.2em;color: black;border-radius: 0.25em;background-color: #f0f8ff;}#sk-container-id-1 input.sk-toggleable__control:checked~div.sk-toggleable__content {max-height: 200px;max-width: 100%;overflow: auto;}#sk-container-id-1 input.sk-toggleable__control:checked~label.sk-toggleable__label-arrow:before {content: \"▾\";}#sk-container-id-1 div.sk-estimator input.sk-toggleable__control:checked~label.sk-toggleable__label {background-color: #d4ebff;}#sk-container-id-1 div.sk-label input.sk-toggleable__control:checked~label.sk-toggleable__label {background-color: #d4ebff;}#sk-container-id-1 input.sk-hidden--visually {border: 0;clip: rect(1px 1px 1px 1px);clip: rect(1px, 1px, 1px, 1px);height: 1px;margin: -1px;overflow: hidden;padding: 0;position: absolute;width: 1px;}#sk-container-id-1 div.sk-estimator {font-family: monospace;background-color: #f0f8ff;border: 1px dotted black;border-radius: 0.25em;box-sizing: border-box;margin-bottom: 0.5em;}#sk-container-id-1 div.sk-estimator:hover {background-color: #d4ebff;}#sk-container-id-1 div.sk-parallel-item::after {content: \"\";width: 100%;border-bottom: 1px solid gray;flex-grow: 1;}#sk-container-id-1 div.sk-label:hover label.sk-toggleable__label {background-color: #d4ebff;}#sk-container-id-1 div.sk-serial::before {content: \"\";position: absolute;border-left: 1px solid gray;box-sizing: border-box;top: 0;bottom: 0;left: 50%;z-index: 0;}#sk-container-id-1 div.sk-serial {display: flex;flex-direction: column;align-items: center;background-color: white;padding-right: 0.2em;padding-left: 0.2em;position: relative;}#sk-container-id-1 div.sk-item {position: relative;z-index: 1;}#sk-container-id-1 div.sk-parallel {display: flex;align-items: stretch;justify-content: center;background-color: white;position: relative;}#sk-container-id-1 div.sk-item::before, #sk-container-id-1 div.sk-parallel-item::before {content: \"\";position: absolute;border-left: 1px solid gray;box-sizing: border-box;top: 0;bottom: 0;left: 50%;z-index: -1;}#sk-container-id-1 div.sk-parallel-item {display: flex;flex-direction: column;z-index: 1;position: relative;background-color: white;}#sk-container-id-1 div.sk-parallel-item:first-child::after {align-self: flex-end;width: 50%;}#sk-container-id-1 div.sk-parallel-item:last-child::after {align-self: flex-start;width: 50%;}#sk-container-id-1 div.sk-parallel-item:only-child::after {width: 0;}#sk-container-id-1 div.sk-dashed-wrapped {border: 1px dashed gray;margin: 0 0.4em 0.5em 0.4em;box-sizing: border-box;padding-bottom: 0.4em;background-color: white;}#sk-container-id-1 div.sk-label label {font-family: monospace;font-weight: bold;display: inline-block;line-height: 1.2em;}#sk-container-id-1 div.sk-label-container {text-align: center;}#sk-container-id-1 div.sk-container {/* jupyter's `normalize.less` sets `[hidden] { display: none; }` but bootstrap.min.css set `[hidden] { display: none !important; }` so we also need the `!important` here to be able to override the default hidden behavior on the sphinx rendered scikit-learn.org. See: https://github.com/scikit-learn/scikit-learn/issues/21755 */display: inline-block !important;position: relative;}#sk-container-id-1 div.sk-text-repr-fallback {display: none;}</style><div id=\"sk-container-id-1\" class=\"sk-top-container\"><div class=\"sk-text-repr-fallback\"><pre>MinMaxScaler()</pre><b>In a Jupyter environment, please rerun this cell to show the HTML representation or trust the notebook. <br />On GitHub, the HTML representation is unable to render, please try loading this page with nbviewer.org.</b></div><div class=\"sk-container\" hidden><div class=\"sk-item\"><div class=\"sk-estimator sk-toggleable\"><input class=\"sk-toggleable__control sk-hidden--visually\" id=\"sk-estimator-id-1\" type=\"checkbox\" checked><label for=\"sk-estimator-id-1\" class=\"sk-toggleable__label sk-toggleable__label-arrow\">MinMaxScaler</label><div class=\"sk-toggleable__content\"><pre>MinMaxScaler()</pre></div></div></div></div></div>"
      ],
      "text/plain": [
       "MinMaxScaler()"
      ]
     },
     "execution_count": 8,
     "metadata": {},
     "output_type": "execute_result"
    }
   ],
   "source": [
    "scaler.fit(X_train)"
   ]
  },
  {
   "cell_type": "code",
   "execution_count": 9,
   "metadata": {},
   "outputs": [],
   "source": [
    "X_train = scaler.transform(X_train)\n",
    "X_test = scaler.transform(X_test)"
   ]
  },
  {
   "cell_type": "markdown",
   "metadata": {},
   "source": [
    "## Creating the Model"
   ]
  },
  {
   "cell_type": "code",
   "execution_count": 10,
   "metadata": {},
   "outputs": [
    {
     "name": "stdout",
     "output_type": "stream",
     "text": [
      "WARNING:tensorflow:From C:\\Users\\DELL\\AppData\\Roaming\\Python\\Python311\\site-packages\\keras\\src\\losses.py:2976: The name tf.losses.sparse_softmax_cross_entropy is deprecated. Please use tf.compat.v1.losses.sparse_softmax_cross_entropy instead.\n",
      "\n"
     ]
    }
   ],
   "source": [
    "import tensorflow as tf\n",
    "from tensorflow.keras.models import Sequential\n",
    "from tensorflow.keras.layers import Dense, Activation,Dropout"
   ]
  },
  {
   "cell_type": "code",
   "execution_count": 11,
   "metadata": {},
   "outputs": [],
   "source": [
    "from tensorflow.keras.callbacks import EarlyStopping,TensorBoard"
   ]
  },
  {
   "cell_type": "code",
   "execution_count": 12,
   "metadata": {},
   "outputs": [],
   "source": [
    "early_stop = EarlyStopping(monitor='val_loss', mode='min', verbose=1, patience=25)"
   ]
  },
  {
   "cell_type": "code",
   "execution_count": 13,
   "metadata": {},
   "outputs": [
    {
     "data": {
      "text/plain": [
       "'c:\\\\Users\\\\DELL\\\\Desktop\\\\uczenie maszynowe\\\\Sieci Neuronowe and Deep Learningg'"
      ]
     },
     "execution_count": 13,
     "metadata": {},
     "output_type": "execute_result"
    }
   ],
   "source": [
    "pwd"
   ]
  },
  {
   "cell_type": "markdown",
   "metadata": {},
   "source": [
    "## Creating the Tensorboard Callback\n",
    "\n",
    "TensorBoard is a visualization tool provided with TensorFlow.\n",
    "\n",
    "This callback logs events for TensorBoard, including:\n",
    "* Metrics summary plots\n",
    "* Training graph visualization\n",
    "* Activation histograms\n",
    "* Sampled profiling\n",
    "\n",
    "If you have installed TensorFlow with pip, you should be able\n",
    "to launch TensorBoard from the command line:\n",
    "\n",
    "```sh\n",
    "tensorboard --logdir=path_to_your_logs\n",
    "```\n",
    "\n",
    "You can find more information about TensorBoard\n",
    "[here](https://www.tensorflow.org/tensorboard/).\n",
    "\n",
    "    Arguments:\n",
    "        log_dir: the path of the directory where to save the log files to be\n",
    "          parsed by TensorBoard.\n",
    "        histogram_freq: frequency (in epochs) at which to compute activation and\n",
    "          weight histograms for the layers of the model. If set to 0, histograms\n",
    "          won't be computed. Validation data (or split) must be specified for\n",
    "          histogram visualizations.\n",
    "        write_graph: whether to visualize the graph in TensorBoard. The log file\n",
    "          can become quite large when write_graph is set to True.\n",
    "        write_images: whether to write model weights to visualize as image in\n",
    "          TensorBoard.\n",
    "        update_freq: `'batch'` or `'epoch'` or integer. When using `'batch'`,\n",
    "          writes the losses and metrics to TensorBoard after each batch. The same\n",
    "          applies for `'epoch'`. If using an integer, let's say `1000`, the\n",
    "          callback will write the metrics and losses to TensorBoard every 1000\n",
    "          samples. Note that writing too frequently to TensorBoard can slow down\n",
    "          your training.\n",
    "        profile_batch: Profile the batch to sample compute characteristics. By\n",
    "          default, it will profile the second batch. Set profile_batch=0 to\n",
    "          disable profiling. Must run in TensorFlow eager mode.\n",
    "        embeddings_freq: frequency (in epochs) at which embedding layers will\n",
    "          be visualized. If set to 0, embeddings won't be visualized.\n",
    "       "
   ]
  },
  {
   "cell_type": "code",
   "execution_count": 14,
   "metadata": {},
   "outputs": [],
   "source": [
    "from datetime import datetime"
   ]
  },
  {
   "cell_type": "code",
   "execution_count": 15,
   "metadata": {},
   "outputs": [
    {
     "data": {
      "text/plain": [
       "'2024-03-23--2155'"
      ]
     },
     "execution_count": 15,
     "metadata": {},
     "output_type": "execute_result"
    }
   ],
   "source": [
    "datetime.now().strftime(\"%Y-%m-%d--%H%M\")"
   ]
  },
  {
   "cell_type": "code",
   "execution_count": 16,
   "metadata": {},
   "outputs": [],
   "source": [
    "# WINDOWS: Use \"logs\\\\fit\"\n",
    "# MACOS/LINUX: Use \"logs\\fit\"\n",
    "\n",
    "log_directory = 'logs\\\\fit'\n",
    "\n",
    "# OPTIONAL: ADD A TIMESTAMP FOR UNIQUE FOLDER\n",
    "# timestamp = datetime.now().strftime(\"%Y-%m-%d--%H%M\")\n",
    "# log_directory = log_directory + '\\\\' + timestamp\n",
    "\n",
    "\n",
    "board = TensorBoard(log_dir=log_directory,histogram_freq=1,\n",
    "    write_graph=True,\n",
    "    write_images=True,\n",
    "    update_freq='epoch',\n",
    "    profile_batch=2,\n",
    "    embeddings_freq=1)"
   ]
  },
  {
   "cell_type": "markdown",
   "metadata": {},
   "source": [
    "Now create the model layers:"
   ]
  },
  {
   "cell_type": "code",
   "execution_count": 17,
   "metadata": {},
   "outputs": [
    {
     "name": "stdout",
     "output_type": "stream",
     "text": [
      "WARNING:tensorflow:From C:\\Users\\DELL\\AppData\\Roaming\\Python\\Python311\\site-packages\\keras\\src\\backend.py:873: The name tf.get_default_graph is deprecated. Please use tf.compat.v1.get_default_graph instead.\n",
      "\n",
      "WARNING:tensorflow:From C:\\Users\\DELL\\AppData\\Roaming\\Python\\Python311\\site-packages\\keras\\src\\optimizers\\__init__.py:309: The name tf.train.Optimizer is deprecated. Please use tf.compat.v1.train.Optimizer instead.\n",
      "\n"
     ]
    }
   ],
   "source": [
    "model = Sequential()\n",
    "model.add(Dense(units=30,activation='relu'))\n",
    "model.add(Dropout(0.5))\n",
    "model.add(Dense(units=15,activation='relu'))\n",
    "model.add(Dropout(0.5))\n",
    "model.add(Dense(units=1,activation='sigmoid'))\n",
    "model.compile(loss='binary_crossentropy', optimizer='adam')"
   ]
  },
  {
   "cell_type": "markdown",
   "metadata": {},
   "source": [
    "## Train the Model"
   ]
  },
  {
   "cell_type": "code",
   "execution_count": 18,
   "metadata": {},
   "outputs": [
    {
     "name": "stdout",
     "output_type": "stream",
     "text": [
      "Epoch 1/600\n",
      "WARNING:tensorflow:From C:\\Users\\DELL\\AppData\\Roaming\\Python\\Python311\\site-packages\\keras\\src\\utils\\tf_utils.py:492: The name tf.ragged.RaggedTensorValue is deprecated. Please use tf.compat.v1.ragged.RaggedTensorValue instead.\n",
      "\n",
      "14/14 [==============================] - 1s 31ms/step - loss: 0.7007 - val_loss: 0.6717\n",
      "Epoch 2/600\n",
      "14/14 [==============================] - 0s 12ms/step - loss: 0.6796 - val_loss: 0.6594\n",
      "Epoch 3/600\n",
      "14/14 [==============================] - 0s 8ms/step - loss: 0.6448 - val_loss: 0.6375\n",
      "Epoch 4/600\n",
      "14/14 [==============================] - 0s 9ms/step - loss: 0.6435 - val_loss: 0.6040\n",
      "Epoch 5/600\n",
      "14/14 [==============================] - 0s 8ms/step - loss: 0.6132 - val_loss: 0.5650\n",
      "Epoch 6/600\n",
      "14/14 [==============================] - 0s 8ms/step - loss: 0.5992 - val_loss: 0.5364\n",
      "Epoch 7/600\n",
      "14/14 [==============================] - 0s 7ms/step - loss: 0.5571 - val_loss: 0.5038\n",
      "Epoch 8/600\n",
      "14/14 [==============================] - 0s 7ms/step - loss: 0.5495 - val_loss: 0.4740\n",
      "Epoch 9/600\n",
      "14/14 [==============================] - 0s 7ms/step - loss: 0.5336 - val_loss: 0.4495\n",
      "Epoch 10/600\n",
      "14/14 [==============================] - 0s 6ms/step - loss: 0.5285 - val_loss: 0.4252\n",
      "Epoch 11/600\n",
      "14/14 [==============================] - 0s 7ms/step - loss: 0.4795 - val_loss: 0.4015\n",
      "Epoch 12/600\n",
      "14/14 [==============================] - 0s 7ms/step - loss: 0.4660 - val_loss: 0.3705\n",
      "Epoch 13/600\n",
      "14/14 [==============================] - 0s 6ms/step - loss: 0.4486 - val_loss: 0.3521\n",
      "Epoch 14/600\n",
      "14/14 [==============================] - 0s 6ms/step - loss: 0.4504 - val_loss: 0.3339\n",
      "Epoch 15/600\n",
      "14/14 [==============================] - 0s 7ms/step - loss: 0.4189 - val_loss: 0.3228\n",
      "Epoch 16/600\n",
      "14/14 [==============================] - 0s 7ms/step - loss: 0.4048 - val_loss: 0.3048\n",
      "Epoch 17/600\n",
      "14/14 [==============================] - 0s 6ms/step - loss: 0.4018 - val_loss: 0.2900\n",
      "Epoch 18/600\n",
      "14/14 [==============================] - 0s 6ms/step - loss: 0.3737 - val_loss: 0.2750\n",
      "Epoch 19/600\n",
      "14/14 [==============================] - 0s 6ms/step - loss: 0.3785 - val_loss: 0.2582\n",
      "Epoch 20/600\n",
      "14/14 [==============================] - 0s 6ms/step - loss: 0.3549 - val_loss: 0.2491\n",
      "Epoch 21/600\n",
      "14/14 [==============================] - 0s 6ms/step - loss: 0.3367 - val_loss: 0.2354\n",
      "Epoch 22/600\n",
      "14/14 [==============================] - 0s 7ms/step - loss: 0.3429 - val_loss: 0.2226\n",
      "Epoch 23/600\n",
      "14/14 [==============================] - 0s 7ms/step - loss: 0.3205 - val_loss: 0.2121\n",
      "Epoch 24/600\n",
      "14/14 [==============================] - 0s 6ms/step - loss: 0.3455 - val_loss: 0.2102\n",
      "Epoch 25/600\n",
      "14/14 [==============================] - 0s 7ms/step - loss: 0.3217 - val_loss: 0.2032\n",
      "Epoch 26/600\n",
      "14/14 [==============================] - 0s 6ms/step - loss: 0.3380 - val_loss: 0.1924\n",
      "Epoch 27/600\n",
      "14/14 [==============================] - 0s 8ms/step - loss: 0.3113 - val_loss: 0.1924\n",
      "Epoch 28/600\n",
      "14/14 [==============================] - 0s 8ms/step - loss: 0.2739 - val_loss: 0.1716\n",
      "Epoch 29/600\n",
      "14/14 [==============================] - 0s 7ms/step - loss: 0.2830 - val_loss: 0.1701\n",
      "Epoch 30/600\n",
      "14/14 [==============================] - 0s 7ms/step - loss: 0.2663 - val_loss: 0.1668\n",
      "Epoch 31/600\n",
      "14/14 [==============================] - 0s 6ms/step - loss: 0.2401 - val_loss: 0.1495\n",
      "Epoch 32/600\n",
      "14/14 [==============================] - 0s 7ms/step - loss: 0.2467 - val_loss: 0.1584\n",
      "Epoch 33/600\n",
      "14/14 [==============================] - 0s 7ms/step - loss: 0.2461 - val_loss: 0.1527\n",
      "Epoch 34/600\n",
      "14/14 [==============================] - 0s 7ms/step - loss: 0.1997 - val_loss: 0.1365\n",
      "Epoch 35/600\n",
      "14/14 [==============================] - 0s 8ms/step - loss: 0.2487 - val_loss: 0.1326\n",
      "Epoch 36/600\n",
      "14/14 [==============================] - 0s 6ms/step - loss: 0.2432 - val_loss: 0.1336\n",
      "Epoch 37/600\n",
      "14/14 [==============================] - 0s 9ms/step - loss: 0.2369 - val_loss: 0.1321\n",
      "Epoch 38/600\n",
      "14/14 [==============================] - 0s 7ms/step - loss: 0.1839 - val_loss: 0.1265\n",
      "Epoch 39/600\n",
      "14/14 [==============================] - 0s 8ms/step - loss: 0.1779 - val_loss: 0.1209\n",
      "Epoch 40/600\n",
      "14/14 [==============================] - 0s 7ms/step - loss: 0.2142 - val_loss: 0.1181\n",
      "Epoch 41/600\n",
      "14/14 [==============================] - 0s 7ms/step - loss: 0.1862 - val_loss: 0.1166\n",
      "Epoch 42/600\n",
      "14/14 [==============================] - 0s 7ms/step - loss: 0.1887 - val_loss: 0.1173\n",
      "Epoch 43/600\n",
      "14/14 [==============================] - 0s 8ms/step - loss: 0.2059 - val_loss: 0.1164\n",
      "Epoch 44/600\n",
      "14/14 [==============================] - 0s 9ms/step - loss: 0.1742 - val_loss: 0.1109\n",
      "Epoch 45/600\n",
      "14/14 [==============================] - 0s 7ms/step - loss: 0.1816 - val_loss: 0.1204\n",
      "Epoch 46/600\n",
      "14/14 [==============================] - 0s 8ms/step - loss: 0.1750 - val_loss: 0.1123\n",
      "Epoch 47/600\n",
      "14/14 [==============================] - 0s 7ms/step - loss: 0.1845 - val_loss: 0.1113\n",
      "Epoch 48/600\n",
      "14/14 [==============================] - 0s 8ms/step - loss: 0.1857 - val_loss: 0.1121\n",
      "Epoch 49/600\n",
      "14/14 [==============================] - 0s 8ms/step - loss: 0.1623 - val_loss: 0.1083\n",
      "Epoch 50/600\n",
      "14/14 [==============================] - 0s 7ms/step - loss: 0.1630 - val_loss: 0.1097\n",
      "Epoch 51/600\n",
      "14/14 [==============================] - 0s 7ms/step - loss: 0.1680 - val_loss: 0.1081\n",
      "Epoch 52/600\n",
      "14/14 [==============================] - 0s 7ms/step - loss: 0.1829 - val_loss: 0.1069\n",
      "Epoch 53/600\n",
      "14/14 [==============================] - 0s 13ms/step - loss: 0.1775 - val_loss: 0.1045\n",
      "Epoch 54/600\n",
      "14/14 [==============================] - 0s 6ms/step - loss: 0.1620 - val_loss: 0.1044\n",
      "Epoch 55/600\n",
      "14/14 [==============================] - 0s 7ms/step - loss: 0.1557 - val_loss: 0.1016\n",
      "Epoch 56/600\n",
      "14/14 [==============================] - 0s 7ms/step - loss: 0.1683 - val_loss: 0.1031\n",
      "Epoch 57/600\n",
      "14/14 [==============================] - 0s 7ms/step - loss: 0.1415 - val_loss: 0.0985\n",
      "Epoch 58/600\n",
      "14/14 [==============================] - 0s 7ms/step - loss: 0.1411 - val_loss: 0.1085\n",
      "Epoch 59/600\n",
      "14/14 [==============================] - 0s 7ms/step - loss: 0.1319 - val_loss: 0.0982\n",
      "Epoch 60/600\n",
      "14/14 [==============================] - 0s 7ms/step - loss: 0.1304 - val_loss: 0.0946\n",
      "Epoch 61/600\n",
      "14/14 [==============================] - 0s 6ms/step - loss: 0.1355 - val_loss: 0.0983\n",
      "Epoch 62/600\n",
      "14/14 [==============================] - 0s 6ms/step - loss: 0.1372 - val_loss: 0.0930\n",
      "Epoch 63/600\n",
      "14/14 [==============================] - 0s 6ms/step - loss: 0.1430 - val_loss: 0.0916\n",
      "Epoch 64/600\n",
      "14/14 [==============================] - 0s 6ms/step - loss: 0.1399 - val_loss: 0.0950\n",
      "Epoch 65/600\n",
      "14/14 [==============================] - 0s 6ms/step - loss: 0.1462 - val_loss: 0.0955\n",
      "Epoch 66/600\n",
      "14/14 [==============================] - 0s 7ms/step - loss: 0.1271 - val_loss: 0.0971\n",
      "Epoch 67/600\n",
      "14/14 [==============================] - 0s 6ms/step - loss: 0.1499 - val_loss: 0.0924\n",
      "Epoch 68/600\n",
      "14/14 [==============================] - 0s 8ms/step - loss: 0.1192 - val_loss: 0.0955\n",
      "Epoch 69/600\n",
      "14/14 [==============================] - 0s 7ms/step - loss: 0.1198 - val_loss: 0.1007\n",
      "Epoch 70/600\n",
      "14/14 [==============================] - 0s 7ms/step - loss: 0.1342 - val_loss: 0.0911\n",
      "Epoch 71/600\n",
      "14/14 [==============================] - 0s 7ms/step - loss: 0.1422 - val_loss: 0.0949\n",
      "Epoch 72/600\n",
      "14/14 [==============================] - 0s 7ms/step - loss: 0.1196 - val_loss: 0.0921\n",
      "Epoch 73/600\n",
      "14/14 [==============================] - 0s 7ms/step - loss: 0.1293 - val_loss: 0.0963\n",
      "Epoch 74/600\n",
      "14/14 [==============================] - 0s 7ms/step - loss: 0.1170 - val_loss: 0.0950\n",
      "Epoch 75/600\n",
      "14/14 [==============================] - 0s 6ms/step - loss: 0.1280 - val_loss: 0.0914\n",
      "Epoch 76/600\n",
      "14/14 [==============================] - 0s 7ms/step - loss: 0.1399 - val_loss: 0.0934\n",
      "Epoch 77/600\n",
      "14/14 [==============================] - 0s 16ms/step - loss: 0.1105 - val_loss: 0.0882\n",
      "Epoch 78/600\n",
      "14/14 [==============================] - 0s 7ms/step - loss: 0.1123 - val_loss: 0.0988\n",
      "Epoch 79/600\n",
      "14/14 [==============================] - 0s 7ms/step - loss: 0.1225 - val_loss: 0.0898\n",
      "Epoch 80/600\n",
      "14/14 [==============================] - 0s 7ms/step - loss: 0.1354 - val_loss: 0.0940\n",
      "Epoch 81/600\n",
      "14/14 [==============================] - 0s 6ms/step - loss: 0.1182 - val_loss: 0.0901\n",
      "Epoch 82/600\n",
      "14/14 [==============================] - 0s 7ms/step - loss: 0.1050 - val_loss: 0.0939\n",
      "Epoch 83/600\n",
      "14/14 [==============================] - 0s 7ms/step - loss: 0.1069 - val_loss: 0.0869\n",
      "Epoch 84/600\n",
      "14/14 [==============================] - 0s 6ms/step - loss: 0.1154 - val_loss: 0.0882\n",
      "Epoch 85/600\n",
      "14/14 [==============================] - 0s 6ms/step - loss: 0.1102 - val_loss: 0.0838\n",
      "Epoch 86/600\n",
      "14/14 [==============================] - 0s 6ms/step - loss: 0.1086 - val_loss: 0.0960\n",
      "Epoch 87/600\n",
      "14/14 [==============================] - 0s 6ms/step - loss: 0.1088 - val_loss: 0.0869\n",
      "Epoch 88/600\n",
      "14/14 [==============================] - 0s 6ms/step - loss: 0.0976 - val_loss: 0.0897\n",
      "Epoch 89/600\n",
      "14/14 [==============================] - 0s 6ms/step - loss: 0.1246 - val_loss: 0.0840\n",
      "Epoch 90/600\n",
      "14/14 [==============================] - 0s 8ms/step - loss: 0.0926 - val_loss: 0.0849\n",
      "Epoch 91/600\n",
      "14/14 [==============================] - 0s 8ms/step - loss: 0.1075 - val_loss: 0.0904\n",
      "Epoch 92/600\n",
      "14/14 [==============================] - 0s 7ms/step - loss: 0.1118 - val_loss: 0.0882\n",
      "Epoch 93/600\n",
      "14/14 [==============================] - 0s 6ms/step - loss: 0.1075 - val_loss: 0.0999\n",
      "Epoch 94/600\n",
      "14/14 [==============================] - 0s 6ms/step - loss: 0.1226 - val_loss: 0.0889\n",
      "Epoch 95/600\n",
      "14/14 [==============================] - 0s 6ms/step - loss: 0.1052 - val_loss: 0.0830\n",
      "Epoch 96/600\n",
      "14/14 [==============================] - 0s 6ms/step - loss: 0.0915 - val_loss: 0.0828\n",
      "Epoch 97/600\n",
      "14/14 [==============================] - 0s 7ms/step - loss: 0.1068 - val_loss: 0.0865\n",
      "Epoch 98/600\n",
      "14/14 [==============================] - 0s 7ms/step - loss: 0.1006 - val_loss: 0.0985\n",
      "Epoch 99/600\n",
      "14/14 [==============================] - 0s 7ms/step - loss: 0.1045 - val_loss: 0.1061\n",
      "Epoch 100/600\n",
      "14/14 [==============================] - 0s 7ms/step - loss: 0.1112 - val_loss: 0.0857\n",
      "Epoch 101/600\n",
      "14/14 [==============================] - 0s 6ms/step - loss: 0.1020 - val_loss: 0.0955\n",
      "Epoch 102/600\n",
      "14/14 [==============================] - 0s 6ms/step - loss: 0.1077 - val_loss: 0.0985\n",
      "Epoch 103/600\n",
      "14/14 [==============================] - 0s 7ms/step - loss: 0.1070 - val_loss: 0.0909\n",
      "Epoch 104/600\n",
      "14/14 [==============================] - 0s 7ms/step - loss: 0.0884 - val_loss: 0.0857\n",
      "Epoch 105/600\n",
      "14/14 [==============================] - 0s 7ms/step - loss: 0.0912 - val_loss: 0.0833\n",
      "Epoch 106/600\n",
      "14/14 [==============================] - 0s 7ms/step - loss: 0.0989 - val_loss: 0.0795\n",
      "Epoch 107/600\n",
      "14/14 [==============================] - 0s 6ms/step - loss: 0.0949 - val_loss: 0.0787\n",
      "Epoch 108/600\n",
      "14/14 [==============================] - 0s 7ms/step - loss: 0.0933 - val_loss: 0.0847\n",
      "Epoch 109/600\n",
      "14/14 [==============================] - 0s 7ms/step - loss: 0.0922 - val_loss: 0.0793\n",
      "Epoch 110/600\n",
      "14/14 [==============================] - 0s 6ms/step - loss: 0.0865 - val_loss: 0.0785\n",
      "Epoch 111/600\n",
      "14/14 [==============================] - 0s 7ms/step - loss: 0.0937 - val_loss: 0.0783\n",
      "Epoch 112/600\n",
      "14/14 [==============================] - 0s 7ms/step - loss: 0.0904 - val_loss: 0.0951\n",
      "Epoch 113/600\n",
      "14/14 [==============================] - 0s 7ms/step - loss: 0.1095 - val_loss: 0.0785\n",
      "Epoch 114/600\n",
      "14/14 [==============================] - 0s 6ms/step - loss: 0.1019 - val_loss: 0.0953\n",
      "Epoch 115/600\n",
      "14/14 [==============================] - 0s 7ms/step - loss: 0.0848 - val_loss: 0.0798\n",
      "Epoch 116/600\n",
      "14/14 [==============================] - 0s 7ms/step - loss: 0.1004 - val_loss: 0.0864\n",
      "Epoch 117/600\n",
      "14/14 [==============================] - 0s 7ms/step - loss: 0.0897 - val_loss: 0.0873\n",
      "Epoch 118/600\n",
      "14/14 [==============================] - 0s 6ms/step - loss: 0.0811 - val_loss: 0.0981\n",
      "Epoch 119/600\n",
      "14/14 [==============================] - 0s 6ms/step - loss: 0.0965 - val_loss: 0.0877\n",
      "Epoch 120/600\n",
      "14/14 [==============================] - 0s 6ms/step - loss: 0.1036 - val_loss: 0.0780\n",
      "Epoch 121/600\n",
      "14/14 [==============================] - 0s 7ms/step - loss: 0.1154 - val_loss: 0.0843\n",
      "Epoch 122/600\n",
      "14/14 [==============================] - 0s 7ms/step - loss: 0.0960 - val_loss: 0.0769\n",
      "Epoch 123/600\n",
      "14/14 [==============================] - 0s 6ms/step - loss: 0.0782 - val_loss: 0.0784\n",
      "Epoch 124/600\n",
      "14/14 [==============================] - 0s 7ms/step - loss: 0.0823 - val_loss: 0.0775\n",
      "Epoch 125/600\n",
      "14/14 [==============================] - 0s 7ms/step - loss: 0.0757 - val_loss: 0.0771\n",
      "Epoch 126/600\n",
      "14/14 [==============================] - 0s 6ms/step - loss: 0.0805 - val_loss: 0.0815\n",
      "Epoch 127/600\n",
      "14/14 [==============================] - 0s 6ms/step - loss: 0.0826 - val_loss: 0.0861\n",
      "Epoch 128/600\n",
      "14/14 [==============================] - 0s 7ms/step - loss: 0.0826 - val_loss: 0.0784\n",
      "Epoch 129/600\n",
      "14/14 [==============================] - 0s 7ms/step - loss: 0.0848 - val_loss: 0.0760\n",
      "Epoch 130/600\n",
      "14/14 [==============================] - 0s 7ms/step - loss: 0.0729 - val_loss: 0.0853\n",
      "Epoch 131/600\n",
      "14/14 [==============================] - 0s 7ms/step - loss: 0.0767 - val_loss: 0.0802\n",
      "Epoch 132/600\n",
      "14/14 [==============================] - 0s 7ms/step - loss: 0.0912 - val_loss: 0.0850\n",
      "Epoch 133/600\n",
      "14/14 [==============================] - 0s 7ms/step - loss: 0.0777 - val_loss: 0.0809\n",
      "Epoch 134/600\n",
      "14/14 [==============================] - 0s 7ms/step - loss: 0.0706 - val_loss: 0.0904\n",
      "Epoch 135/600\n",
      "14/14 [==============================] - 0s 6ms/step - loss: 0.0824 - val_loss: 0.0926\n",
      "Epoch 136/600\n",
      "14/14 [==============================] - 0s 7ms/step - loss: 0.0937 - val_loss: 0.0754\n",
      "Epoch 137/600\n",
      "14/14 [==============================] - 0s 7ms/step - loss: 0.0759 - val_loss: 0.0742\n",
      "Epoch 138/600\n",
      "14/14 [==============================] - 0s 6ms/step - loss: 0.0890 - val_loss: 0.0915\n",
      "Epoch 139/600\n",
      "14/14 [==============================] - 0s 6ms/step - loss: 0.0901 - val_loss: 0.1010\n",
      "Epoch 140/600\n",
      "14/14 [==============================] - 0s 7ms/step - loss: 0.0830 - val_loss: 0.0765\n",
      "Epoch 141/600\n",
      "14/14 [==============================] - 0s 7ms/step - loss: 0.0843 - val_loss: 0.0772\n",
      "Epoch 142/600\n",
      "14/14 [==============================] - 0s 6ms/step - loss: 0.0910 - val_loss: 0.0828\n",
      "Epoch 143/600\n",
      "14/14 [==============================] - 0s 7ms/step - loss: 0.0862 - val_loss: 0.0861\n",
      "Epoch 144/600\n",
      "14/14 [==============================] - 0s 7ms/step - loss: 0.0825 - val_loss: 0.0789\n",
      "Epoch 145/600\n",
      "14/14 [==============================] - 0s 7ms/step - loss: 0.0853 - val_loss: 0.0862\n",
      "Epoch 146/600\n",
      "14/14 [==============================] - 0s 7ms/step - loss: 0.0905 - val_loss: 0.0931\n",
      "Epoch 147/600\n",
      "14/14 [==============================] - 0s 7ms/step - loss: 0.0773 - val_loss: 0.0817\n",
      "Epoch 148/600\n",
      "14/14 [==============================] - 0s 6ms/step - loss: 0.0805 - val_loss: 0.0832\n",
      "Epoch 149/600\n",
      "14/14 [==============================] - 0s 7ms/step - loss: 0.0909 - val_loss: 0.0874\n",
      "Epoch 150/600\n",
      "14/14 [==============================] - 0s 7ms/step - loss: 0.0859 - val_loss: 0.0932\n",
      "Epoch 151/600\n",
      "14/14 [==============================] - 0s 6ms/step - loss: 0.0881 - val_loss: 0.0869\n",
      "Epoch 152/600\n",
      "14/14 [==============================] - 0s 7ms/step - loss: 0.0884 - val_loss: 0.0778\n",
      "Epoch 153/600\n",
      "14/14 [==============================] - 0s 7ms/step - loss: 0.0664 - val_loss: 0.0830\n",
      "Epoch 154/600\n",
      "14/14 [==============================] - 0s 7ms/step - loss: 0.0581 - val_loss: 0.0839\n",
      "Epoch 155/600\n",
      "14/14 [==============================] - 0s 7ms/step - loss: 0.1008 - val_loss: 0.0949\n",
      "Epoch 156/600\n",
      "14/14 [==============================] - 0s 7ms/step - loss: 0.0705 - val_loss: 0.0768\n",
      "Epoch 157/600\n",
      "14/14 [==============================] - 0s 7ms/step - loss: 0.0888 - val_loss: 0.0798\n",
      "Epoch 158/600\n",
      "14/14 [==============================] - 0s 6ms/step - loss: 0.0854 - val_loss: 0.0895\n",
      "Epoch 159/600\n",
      "14/14 [==============================] - 0s 6ms/step - loss: 0.0829 - val_loss: 0.0812\n",
      "Epoch 160/600\n",
      "14/14 [==============================] - 0s 7ms/step - loss: 0.0729 - val_loss: 0.0937\n",
      "Epoch 161/600\n",
      "14/14 [==============================] - 0s 7ms/step - loss: 0.0739 - val_loss: 0.0908\n",
      "Epoch 162/600\n",
      "14/14 [==============================] - 0s 7ms/step - loss: 0.0914 - val_loss: 0.0812\n",
      "Epoch 162: early stopping\n"
     ]
    },
    {
     "data": {
      "text/plain": [
       "<keras.src.callbacks.History at 0x2238544f090>"
      ]
     },
     "execution_count": 18,
     "metadata": {},
     "output_type": "execute_result"
    }
   ],
   "source": [
    "model.fit(x=X_train, \n",
    "          y=y_train, \n",
    "          epochs=600,\n",
    "          validation_data=(X_test, y_test), verbose=1,\n",
    "          callbacks=[early_stop,board]\n",
    "          )"
   ]
  },
  {
   "cell_type": "markdown",
   "metadata": {},
   "source": [
    "# Running Tensorboard\n"
   ]
  },
  {
   "cell_type": "markdown",
   "metadata": {},
   "source": [
    "## Running through the Command Line\n",
    "\n",
    "**Watch video to see how to run Tensorboard through a command line call.**"
   ]
  },
  {
   "cell_type": "markdown",
   "metadata": {},
   "source": [
    "Tensorboard will run locally in your browser at [http://localhost:6006/](http://localhost:6006/)\n"
   ]
  },
  {
   "cell_type": "code",
   "execution_count": 19,
   "metadata": {},
   "outputs": [
    {
     "name": "stdout",
     "output_type": "stream",
     "text": [
      "logs\\fit\n"
     ]
    }
   ],
   "source": [
    "print(log_directory)"
   ]
  },
  {
   "cell_type": "code",
   "execution_count": 20,
   "metadata": {},
   "outputs": [
    {
     "data": {
      "text/plain": [
       "'c:\\\\Users\\\\DELL\\\\Desktop\\\\uczenie maszynowe\\\\Sieci Neuronowe and Deep Learningg'"
      ]
     },
     "execution_count": 20,
     "metadata": {},
     "output_type": "execute_result"
    }
   ],
   "source": [
    "pwd"
   ]
  },
  {
   "cell_type": "markdown",
   "metadata": {},
   "source": [
    "### Use cd at your command line to change directory to the file path reported back by pwd or your current .py file location.\n",
    "### Then run this code at your command line or terminal"
   ]
  },
  {
   "cell_type": "code",
   "execution_count": 22,
   "metadata": {},
   "outputs": [
    {
     "name": "stdout",
     "output_type": "stream",
     "text": [
      "Wersja TensorFlow: 2.15.0\n"
     ]
    }
   ],
   "source": [
    "import tensorflow as tf\n",
    "\n",
    "print(\"Wersja TensorFlow:\", tf.__version__)"
   ]
  },
  {
   "cell_type": "code",
   "execution_count": 21,
   "metadata": {},
   "outputs": [
    {
     "ename": "SyntaxError",
     "evalue": "unexpected character after line continuation character (1592440942.py, line 1)",
     "output_type": "error",
     "traceback": [
      "\u001b[1;36m  Cell \u001b[1;32mIn[21], line 1\u001b[1;36m\u001b[0m\n\u001b[1;33m    tensorboard --logdir logs\\fit\u001b[0m\n\u001b[1;37m                              ^\u001b[0m\n\u001b[1;31mSyntaxError\u001b[0m\u001b[1;31m:\u001b[0m unexpected character after line continuation character\n"
     ]
    }
   ],
   "source": [
    "tensorboard --logdir logs\\fit "
   ]
  }
 ],
 "metadata": {
  "kernelspec": {
   "display_name": "Python 3",
   "language": "python",
   "name": "python3"
  },
  "language_info": {
   "codemirror_mode": {
    "name": "ipython",
    "version": 3
   },
   "file_extension": ".py",
   "mimetype": "text/x-python",
   "name": "python",
   "nbconvert_exporter": "python",
   "pygments_lexer": "ipython3",
   "version": "3.11.3"
  }
 },
 "nbformat": 4,
 "nbformat_minor": 2
}
